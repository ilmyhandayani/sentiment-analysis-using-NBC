{
 "cells": [
  {
   "cell_type": "code",
   "execution_count": 1,
   "id": "8eaf0277",
   "metadata": {},
   "outputs": [],
   "source": [
    "import pandas as pd\n",
    "import numpy as np\n",
    "import matplotlib.pyplot as plt\n",
    "\n",
    "from sklearn.preprocessing import LabelEncoder\n",
    "from sklearn.metrics import accuracy_score, f1_score, classification_report, confusion_matrix, accuracy_score\n",
    "from sklearn.feature_extraction.text import TfidfVectorizer\n",
    "from sklearn.naive_bayes import GaussianNB"
   ]
  },
  {
   "cell_type": "code",
   "execution_count": 2,
   "id": "54acfb63",
   "metadata": {},
   "outputs": [],
   "source": [
    "def read_file(filename):\n",
    "    data = pd.read_csv(filename)\n",
    "    print(data.shape)\n",
    "    data['label'] = data['label'].apply(lambda x: x.strip().lower())\n",
    "    return data"
   ]
  },
  {
   "cell_type": "code",
   "execution_count": 3,
   "id": "0ff2d831",
   "metadata": {},
   "outputs": [],
   "source": [
    "datatrain = 'LGBT_train.csv'\n",
    "datatest = 'LGBT_test.csv'"
   ]
  },
  {
   "cell_type": "code",
   "execution_count": 4,
   "id": "1513ce28",
   "metadata": {},
   "outputs": [
    {
     "name": "stdout",
     "output_type": "stream",
     "text": [
      "(188, 2)\n",
      "(81, 2)\n"
     ]
    }
   ],
   "source": [
    "data_ho_train = read_file(datatrain)\n",
    "data_ho_test = read_file(datatest)"
   ]
  },
  {
   "cell_type": "code",
   "execution_count": 5,
   "id": "0ee26ad0",
   "metadata": {},
   "outputs": [
    {
     "data": {
      "text/html": [
       "<div>\n",
       "<style scoped>\n",
       "    .dataframe tbody tr th:only-of-type {\n",
       "        vertical-align: middle;\n",
       "    }\n",
       "\n",
       "    .dataframe tbody tr th {\n",
       "        vertical-align: top;\n",
       "    }\n",
       "\n",
       "    .dataframe thead th {\n",
       "        text-align: right;\n",
       "    }\n",
       "</style>\n",
       "<table border=\"1\" class=\"dataframe\">\n",
       "  <thead>\n",
       "    <tr style=\"text-align: right;\">\n",
       "      <th></th>\n",
       "      <th>tweet</th>\n",
       "      <th>label</th>\n",
       "      <th>targetTR</th>\n",
       "    </tr>\n",
       "  </thead>\n",
       "  <tbody>\n",
       "    <tr>\n",
       "      <th>0</th>\n",
       "      <td>['kenapa', 'negara', 'udah', 'krisis', 'iklim'...</td>\n",
       "      <td>negatif</td>\n",
       "      <td>0</td>\n",
       "    </tr>\n",
       "    <tr>\n",
       "      <th>1</th>\n",
       "      <td>['lgbt', 'lesbian', 'gay', 'biseksual', 'trans...</td>\n",
       "      <td>negatif</td>\n",
       "      <td>0</td>\n",
       "    </tr>\n",
       "    <tr>\n",
       "      <th>2</th>\n",
       "      <td>['nadir', 'wakil', 'lgbt', 'nahdatul', 'ulama']</td>\n",
       "      <td>negatif</td>\n",
       "      <td>0</td>\n",
       "    </tr>\n",
       "    <tr>\n",
       "      <th>3</th>\n",
       "      <td>['toko', 'jual', 'lgbt']</td>\n",
       "      <td>negatif</td>\n",
       "      <td>0</td>\n",
       "    </tr>\n",
       "    <tr>\n",
       "      <th>4</th>\n",
       "      <td>['sampai', 'monyet', 'telur', 'statement', 'di...</td>\n",
       "      <td>positif</td>\n",
       "      <td>1</td>\n",
       "    </tr>\n",
       "  </tbody>\n",
       "</table>\n",
       "</div>"
      ],
      "text/plain": [
       "                                               tweet    label  targetTR\n",
       "0  ['kenapa', 'negara', 'udah', 'krisis', 'iklim'...  negatif         0\n",
       "1  ['lgbt', 'lesbian', 'gay', 'biseksual', 'trans...  negatif         0\n",
       "2    ['nadir', 'wakil', 'lgbt', 'nahdatul', 'ulama']  negatif         0\n",
       "3                           ['toko', 'jual', 'lgbt']  negatif         0\n",
       "4  ['sampai', 'monyet', 'telur', 'statement', 'di...  positif         1"
      ]
     },
     "execution_count": 5,
     "metadata": {},
     "output_type": "execute_result"
    }
   ],
   "source": [
    "target_encoder = LabelEncoder()\n",
    "data_ho_train['targetTR'] = target_encoder.fit_transform(data_ho_train['label'])\n",
    "data_ho_test['targetTS'] = target_encoder.transform(data_ho_test['label'])\n",
    "data_ho_train.head()"
   ]
  },
  {
   "cell_type": "code",
   "execution_count": 6,
   "id": "82304f04",
   "metadata": {},
   "outputs": [],
   "source": [
    "x_ho_train = data_ho_train.drop(['tweet','label'], axis=1)\n",
    "y_ho_train = data_ho_train['targetTR']\n",
    "#x_ho_train.head()\n",
    "x_ho_test = data_ho_test.drop(['tweet','label'], axis=1)\n",
    "y_ho_test = data_ho_test['targetTS']\n",
    "#x_ho_train.head()"
   ]
  },
  {
   "cell_type": "code",
   "execution_count": 7,
   "id": "7c0f146c",
   "metadata": {},
   "outputs": [
    {
     "name": "stdout",
     "output_type": "stream",
     "text": [
      "[[0. 0. 0. ... 0. 0. 0.]\n",
      " [0. 0. 0. ... 0. 0. 0.]\n",
      " [0. 0. 0. ... 0. 0. 0.]\n",
      " ...\n",
      " [0. 0. 0. ... 0. 0. 0.]\n",
      " [0. 0. 0. ... 0. 0. 0.]\n",
      " [0. 0. 0. ... 0. 0. 0.]]\n"
     ]
    }
   ],
   "source": [
    "vectorizer = TfidfVectorizer (max_features=2500)\n",
    "model_g = GaussianNB()\n",
    "\n",
    "v_data = vectorizer.fit_transform(data_ho_train['tweet']).toarray()\n",
    "print (v_data)"
   ]
  },
  {
   "cell_type": "code",
   "execution_count": 8,
   "id": "dfb56932",
   "metadata": {},
   "outputs": [
    {
     "data": {
      "text/plain": [
       "GaussianNB()"
      ]
     },
     "execution_count": 8,
     "metadata": {},
     "output_type": "execute_result"
    }
   ],
   "source": [
    "from sklearn.model_selection import train_test_split\n",
    "\n",
    "X_train, X_test, y_train, y_test = train_test_split(v_data, data_ho_train['label'], test_size=0.19, random_state=1)\n",
    "model_g.fit(X_train,y_train)"
   ]
  },
  {
   "cell_type": "code",
   "execution_count": 9,
   "id": "0eb48703",
   "metadata": {},
   "outputs": [
    {
     "name": "stdout",
     "output_type": "stream",
     "text": [
      "[[22  3]\n",
      " [ 4  7]]\n",
      "              precision    recall  f1-score   support\n",
      "\n",
      "     negatif       0.85      0.88      0.86        25\n",
      "     positif       0.70      0.64      0.67        11\n",
      "\n",
      "    accuracy                           0.81        36\n",
      "   macro avg       0.77      0.76      0.76        36\n",
      "weighted avg       0.80      0.81      0.80        36\n",
      "\n",
      "nilai akurasinya adalah  0.8055555555555556\n"
     ]
    }
   ],
   "source": [
    "y_preds = model_g.predict(X_test)\n",
    "\n",
    "print(confusion_matrix(y_test,y_preds))\n",
    "print(classification_report(y_test,y_preds))\n",
    "print('nilai akurasinya adalah ',accuracy_score(y_test, y_preds))"
   ]
  },
  {
   "cell_type": "code",
   "execution_count": null,
   "id": "b8a0e4b0",
   "metadata": {},
   "outputs": [],
   "source": []
  }
 ],
 "metadata": {
  "interpreter": {
   "hash": "dc07d24e2f18896857f0b2a651fe84ba40ce7b297e58d8804a308c8039f752a6"
  },
  "kernelspec": {
   "display_name": "Python 3.9.7 ('base')",
   "language": "python",
   "name": "python3"
  },
  "language_info": {
   "codemirror_mode": {
    "name": "ipython",
    "version": 3
   },
   "file_extension": ".py",
   "mimetype": "text/x-python",
   "name": "python",
   "nbconvert_exporter": "python",
   "pygments_lexer": "ipython3",
   "version": "3.9.7"
  }
 },
 "nbformat": 4,
 "nbformat_minor": 5
}
